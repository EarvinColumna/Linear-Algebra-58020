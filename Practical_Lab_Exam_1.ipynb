{
  "nbformat": 4,
  "nbformat_minor": 0,
  "metadata": {
    "colab": {
      "name": "Practical Lab Exam 1",
      "provenance": [],
      "authorship_tag": "ABX9TyO7uuQrl4lGlICJh5vimVQm",
      "include_colab_link": true
    },
    "kernelspec": {
      "name": "python3",
      "display_name": "Python 3"
    },
    "language_info": {
      "name": "python"
    }
  },
  "cells": [
    {
      "cell_type": "markdown",
      "metadata": {
        "id": "view-in-github",
        "colab_type": "text"
      },
      "source": [
        "<a href=\"https://colab.research.google.com/github/EarvinColumna/Linear-Algebra-58020/blob/main/Practical_Lab_Exam_1.ipynb\" target=\"_parent\"><img src=\"https://colab.research.google.com/assets/colab-badge.svg\" alt=\"Open In Colab\"/></a>"
      ]
    },
    {
      "cell_type": "markdown",
      "metadata": {
        "id": "5PKO6B8X_YKn"
      },
      "source": [
        "##Practical Lab Exam 1"
      ]
    },
    {
      "cell_type": "markdown",
      "metadata": {
        "id": "WJdEv98aEOiq"
      },
      "source": [
        "#Problem 1"
      ]
    },
    {
      "cell_type": "code",
      "metadata": {
        "id": "_ctusqjt_dh2"
      },
      "source": [
        "import numpy as np"
      ],
      "execution_count": 1,
      "outputs": []
    },
    {
      "cell_type": "code",
      "metadata": {
        "colab": {
          "base_uri": "https://localhost:8080/"
        },
        "id": "q3DmEtq9_mh1",
        "outputId": "f6cf0320-72ea-4427-da6c-0f15c5d115ad"
      },
      "source": [
        "W = np.array([[1,-3,0],[2,-2,0],[3,1,0]])\n",
        "print(W)\n",
        "X = np.array([[3,2,1],[-1,2,3],[2,-1,1]])\n",
        "print(X)\n",
        "Y = np.array([[1,2,0],[0,-1,2],[0,0,0]])\n",
        "print(Y)\n",
        "Z = np.array ([[0,1],[2,3]])\n",
        "print(Z)"
      ],
      "execution_count": 45,
      "outputs": [
        {
          "output_type": "stream",
          "name": "stdout",
          "text": [
            "[[ 1 -3  0]\n",
            " [ 2 -2  0]\n",
            " [ 3  1  0]]\n",
            "[[ 3  2  1]\n",
            " [-1  2  3]\n",
            " [ 2 -1  1]]\n",
            "[[ 1  2  0]\n",
            " [ 0 -1  2]\n",
            " [ 0  0  0]]\n",
            "[[0 1]\n",
            " [2 3]]\n"
          ]
        }
      ]
    },
    {
      "cell_type": "code",
      "metadata": {
        "colab": {
          "base_uri": "https://localhost:8080/"
        },
        "id": "qDyQXasEF9OI",
        "outputId": "c46a1fc5-bc75-40a8-8f54-e923853f3aa0"
      },
      "source": [
        "#a. WY\n",
        "output = np.dot(W,Y)\n",
        "print(output)"
      ],
      "execution_count": 41,
      "outputs": [
        {
          "output_type": "stream",
          "name": "stdout",
          "text": [
            "[[ 1  5 -6]\n",
            " [ 2  6 -4]\n",
            " [ 3  5  2]]\n"
          ]
        }
      ]
    },
    {
      "cell_type": "code",
      "metadata": {
        "colab": {
          "base_uri": "https://localhost:8080/"
        },
        "id": "Q0Di04HZGcgA",
        "outputId": "045d25ce-ab1d-4837-a1bd-a157bd3a279e"
      },
      "source": [
        "#b. Z+Z\n",
        "output = np.add(Z,Z)\n",
        "print(output)"
      ],
      "execution_count": 12,
      "outputs": [
        {
          "output_type": "stream",
          "name": "stdout",
          "text": [
            "[[0 2]\n",
            " [4 6]]\n"
          ]
        }
      ]
    },
    {
      "cell_type": "code",
      "metadata": {
        "colab": {
          "base_uri": "https://localhost:8080/"
        },
        "id": "tIb0PqNAHCln",
        "outputId": "80f391aa-3d2b-4273-fa4b-98f01883153e"
      },
      "source": [
        "#c. 3X\n",
        "output = np.dot(3,X)\n",
        "print(output)"
      ],
      "execution_count": 14,
      "outputs": [
        {
          "output_type": "stream",
          "name": "stdout",
          "text": [
            "[[ 9  6  3]\n",
            " [-3  6  9]\n",
            " [ 6 -3  3]]\n"
          ]
        }
      ]
    },
    {
      "cell_type": "markdown",
      "metadata": {
        "id": "6y6ysUznEMox"
      },
      "source": [
        "#Problem 2\n"
      ]
    },
    {
      "cell_type": "code",
      "metadata": {
        "colab": {
          "base_uri": "https://localhost:8080/"
        },
        "id": "uRHgfsZ4JzAf",
        "outputId": "f7c8570d-6f7e-4767-873e-100a13bfea7e"
      },
      "source": [
        "#a. The product (YW)2 is not defined = False\n",
        "ans1=np.cross(W,Y)\n",
        "ans2= 2*ans1\n",
        "print(ans2)"
      ],
      "execution_count": 42,
      "outputs": [
        {
          "output_type": "stream",
          "name": "stdout",
          "text": [
            "[[ 0  0 10]\n",
            " [-8 -8 -4]\n",
            " [ 0  0  0]]\n"
          ]
        }
      ]
    },
    {
      "cell_type": "code",
      "metadata": {
        "colab": {
          "base_uri": "https://localhost:8080/"
        },
        "id": "x4aZx5QMEyP-",
        "outputId": "2f4f3c96-ce01-47ef-e0b6-eeaeb3223705"
      },
      "source": [
        "#b. WY – X = False\n",
        "b1 = np.dot(W,Y)\n",
        "b2 = np.subtract(b1,X)\n",
        "print(b2)"
      ],
      "execution_count": 17,
      "outputs": [
        {
          "output_type": "stream",
          "name": "stdout",
          "text": [
            "[[-2  3 -7]\n",
            " [ 3  4 -7]\n",
            " [ 1  6  1]]\n"
          ]
        }
      ]
    },
    {
      "cell_type": "code",
      "metadata": {
        "colab": {
          "base_uri": "https://localhost:8080/"
        },
        "id": "ObGJ5QyZFE7G",
        "outputId": "95fc1795-bfe3-400b-842d-e80c9b12df89"
      },
      "source": [
        "#c. YW – Z2 = True\n",
        "c1 = np.dot(Y,W)\n",
        "c2 = 2*Z\n",
        "c1 = ([[5,-7],[4,4]])\n",
        "c3 = np.subtract(c1,c2)\n",
        "print(c3)\n"
      ],
      "execution_count": 20,
      "outputs": [
        {
          "output_type": "stream",
          "name": "stdout",
          "text": [
            "[[ 5 -9]\n",
            " [ 0 -2]]\n"
          ]
        }
      ]
    },
    {
      "cell_type": "markdown",
      "metadata": {
        "id": "2532JHpKMYMu"
      },
      "source": [
        "#Statement C is the true statement."
      ]
    }
  ]
}