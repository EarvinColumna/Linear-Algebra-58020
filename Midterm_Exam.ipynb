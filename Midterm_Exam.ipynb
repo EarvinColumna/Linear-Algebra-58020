{
  "nbformat": 4,
  "nbformat_minor": 0,
  "metadata": {
    "colab": {
      "name": "Midterm Exam.ipynb",
      "provenance": [],
      "authorship_tag": "ABX9TyMonNyC9PROUPggx6CNu1tw",
      "include_colab_link": true
    },
    "kernelspec": {
      "name": "python3",
      "display_name": "Python 3"
    },
    "language_info": {
      "name": "python"
    }
  },
  "cells": [
    {
      "cell_type": "markdown",
      "metadata": {
        "id": "view-in-github",
        "colab_type": "text"
      },
      "source": [
        "<a href=\"https://colab.research.google.com/github/EarvinColumna/Linear-Algebra-58020/blob/main/Midterm_Exam.ipynb\" target=\"_parent\"><img src=\"https://colab.research.google.com/assets/colab-badge.svg\" alt=\"Open In Colab\"/></a>"
      ]
    },
    {
      "cell_type": "code",
      "metadata": {
        "id": "Au34jMVu2y-_"
      },
      "source": [
        "import numpy as np"
      ],
      "execution_count": 1,
      "outputs": []
    },
    {
      "cell_type": "markdown",
      "metadata": {
        "id": "yMm5k3F13HYo"
      },
      "source": [
        "#####Question 1.  Create a Python code that displays a square matrix whose length is 5 (10 points)\n"
      ]
    },
    {
      "cell_type": "code",
      "metadata": {
        "colab": {
          "base_uri": "https://localhost:8080/"
        },
        "id": "ip9rHzhX7LUU",
        "outputId": "57496da6-e316-4dd7-e3a7-fbb4f2a01a95"
      },
      "source": [
        "x = np.eye(5) #Displays the square matrix whose length is 5.\n",
        "print(x)"
      ],
      "execution_count": 3,
      "outputs": [
        {
          "output_type": "stream",
          "name": "stdout",
          "text": [
            "[[1. 0. 0. 0. 0.]\n",
            " [0. 1. 0. 0. 0.]\n",
            " [0. 0. 1. 0. 0.]\n",
            " [0. 0. 0. 1. 0.]\n",
            " [0. 0. 0. 0. 1.]]\n"
          ]
        }
      ]
    },
    {
      "cell_type": "markdown",
      "metadata": {
        "id": "1tQShCBR3as3"
      },
      "source": [
        "#####Question 2. Create a Python code that displays a square matrix whose elements below the principal diagonal are zero (10 points)\n",
        "\n"
      ]
    },
    {
      "cell_type": "code",
      "metadata": {
        "colab": {
          "base_uri": "https://localhost:8080/"
        },
        "id": "YWxNhpZu3jV4",
        "outputId": "be2cd6f1-10e6-4661-e5d2-52a2a7a12c1b"
      },
      "source": [
        "x = np.array([[1,2,3,4],[0,5,6,7],[0,0,9,8],[0,0,0,7]])\n",
        "print(x)"
      ],
      "execution_count": 12,
      "outputs": [
        {
          "output_type": "stream",
          "name": "stdout",
          "text": [
            "[[1 2 3 4]\n",
            " [0 5 6 7]\n",
            " [0 0 9 8]\n",
            " [0 0 0 7]]\n"
          ]
        }
      ]
    },
    {
      "cell_type": "markdown",
      "metadata": {
        "id": "aOumx8Bh31SG"
      },
      "source": [
        "#####Question 3. Create a Python code that displays a square matrix which is symmetrical (10 points)\n",
        "\n",
        "\n"
      ]
    },
    {
      "cell_type": "code",
      "metadata": {
        "colab": {
          "base_uri": "https://localhost:8080/"
        },
        "id": "nf1BNpfp36Mg",
        "outputId": "628df166-6425-419a-fb8b-06eb6186a1e6"
      },
      "source": [
        "y = np.array([[1,2,6],[2,8,4],[6,4,5]]) # Displays a symmetrical square matrix.\n",
        "print(y)"
      ],
      "execution_count": 13,
      "outputs": [
        {
          "output_type": "stream",
          "name": "stdout",
          "text": [
            "[[1 2 6]\n",
            " [2 8 4]\n",
            " [6 4 5]]\n"
          ]
        }
      ]
    },
    {
      "cell_type": "markdown",
      "metadata": {
        "id": "Dckm1h6c4eN3"
      },
      "source": [
        "#####Question 4. What is the inverse of matrix C? Show your solution by python coding. (20 points)\n",
        "\n"
      ]
    },
    {
      "cell_type": "code",
      "metadata": {
        "colab": {
          "base_uri": "https://localhost:8080/"
        },
        "id": "Gq9MV6MY4sSX",
        "outputId": "50042882-8064-4f1b-f378-89564778f390"
      },
      "source": [
        "v = np.array([[1,2,3],[2,3,3],[3,4,-2]])\n",
        "print(v)\n",
        "print(\"\")\n",
        "f = np.linalg.inv(v) # Converts the array into its inverse\n",
        "print(f)"
      ],
      "execution_count": 10,
      "outputs": [
        {
          "output_type": "stream",
          "name": "stdout",
          "text": [
            "[[ 1  2  3]\n",
            " [ 2  3  3]\n",
            " [ 3  4 -2]]\n",
            "\n",
            "[[-3.6  3.2 -0.6]\n",
            " [ 2.6 -2.2  0.6]\n",
            " [-0.2  0.4 -0.2]]\n"
          ]
        }
      ]
    },
    {
      "cell_type": "markdown",
      "metadata": {
        "id": "L-neSGUB4srA"
      },
      "source": [
        "#####Question 5. What is the determinant of the given matrix in Question 4? Show your solution by python coding. (20 points)\n",
        "\n"
      ]
    },
    {
      "cell_type": "code",
      "metadata": {
        "colab": {
          "base_uri": "https://localhost:8080/"
        },
        "id": "9M-OuPhy4yKh",
        "outputId": "6f32c669-b646-414f-e58b-0db818cc8b62"
      },
      "source": [
        "v = np.array([[1,2,3],[2,3,3],[3,4,-2]])\n",
        "print(v)\n",
        "print(\"\")\n",
        "print(np.linalg.det(v)) #Shows the determinant of the given matrix\n",
        "print(\"\")\n",
        "print(round(np.linalg.det(v)))"
      ],
      "execution_count": 11,
      "outputs": [
        {
          "output_type": "stream",
          "name": "stdout",
          "text": [
            "[[ 1  2  3]\n",
            " [ 2  3  3]\n",
            " [ 3  4 -2]]\n",
            "\n",
            "5.000000000000001\n",
            "\n",
            "5\n"
          ]
        }
      ]
    },
    {
      "cell_type": "markdown",
      "metadata": {
        "id": "9ujVdNqX4yyu"
      },
      "source": [
        "#####Question 6. Find the roots of the linear equations by showing its python codes (30 points)\n",
        "\n",
        "5X1 + 4X2 + X3 = 3.4\n",
        "\n",
        "10X1 + 9X2 + 4X3 = 8.8\n",
        "\n",
        "10X1 + 13X2 + 15X3 = 19.2"
      ]
    },
    {
      "cell_type": "code",
      "metadata": {
        "colab": {
          "base_uri": "https://localhost:8080/"
        },
        "id": "uGYCpIsW411_",
        "outputId": "5bb668c9-ea53-4468-b697-b38be31a129f"
      },
      "source": [
        "j = np.array([[5,4,1,3.4],[10,9,4,8.8],[10,13,15,19.2]])\n",
        "print(j)\n",
        "print(\"\")\n",
        "g = np.sqrt(j) #Finds the roots of the given matrix.\n",
        "print(g)"
      ],
      "execution_count": 16,
      "outputs": [
        {
          "output_type": "stream",
          "name": "stdout",
          "text": [
            "[[ 5.   4.   1.   3.4]\n",
            " [10.   9.   4.   8.8]\n",
            " [10.  13.  15.  19.2]]\n",
            "\n",
            "[[2.23606798 2.         1.         1.84390889]\n",
            " [3.16227766 3.         2.         2.96647939]\n",
            " [3.16227766 3.60555128 3.87298335 4.38178046]]\n"
          ]
        }
      ]
    }
  ]
}