{
  "nbformat": 4,
  "nbformat_minor": 0,
  "metadata": {
    "colab": {
      "name": "Matrix: Inverse and Transpose.ipynb",
      "provenance": [],
      "collapsed_sections": [],
      "authorship_tag": "ABX9TyNRiNRC2fhhl1TgcF+JJJOG",
      "include_colab_link": true
    },
    "kernelspec": {
      "name": "python3",
      "display_name": "Python 3"
    },
    "language_info": {
      "name": "python"
    }
  },
  "cells": [
    {
      "cell_type": "markdown",
      "metadata": {
        "id": "view-in-github",
        "colab_type": "text"
      },
      "source": [
        "<a href=\"https://colab.research.google.com/github/EarvinColumna/Linear-Algebra-58020/blob/main/Matrix_Inverse_and_Transpose.ipynb\" target=\"_parent\"><img src=\"https://colab.research.google.com/assets/colab-badge.svg\" alt=\"Open In Colab\"/></a>"
      ]
    },
    {
      "cell_type": "markdown",
      "metadata": {
        "id": "45l4mbtmaXeO"
      },
      "source": [
        "##Python program to inverse\n"
      ]
    },
    {
      "cell_type": "code",
      "metadata": {
        "id": "XfJK_Givad0z"
      },
      "source": [
        "import numpy as ay"
      ],
      "execution_count": 8,
      "outputs": []
    },
    {
      "cell_type": "code",
      "metadata": {
        "colab": {
          "base_uri": "https://localhost:8080/"
        },
        "id": "u99y71QzanD6",
        "outputId": "8dca8d0f-ec71-442d-c483-b206588ba953"
      },
      "source": [
        "##Create a Python program that applies an inverse of 3x3 or 4x4 matrix\n",
        "A = ay.array([[5,2,3],[4,5,6],[7,8,9]])\n",
        "print(A)"
      ],
      "execution_count": 28,
      "outputs": [
        {
          "output_type": "stream",
          "name": "stdout",
          "text": [
            "[[5 2 3]\n",
            " [4 5 6]\n",
            " [7 8 9]]\n"
          ]
        }
      ]
    },
    {
      "cell_type": "code",
      "metadata": {
        "colab": {
          "base_uri": "https://localhost:8080/"
        },
        "id": "nO2j384Ye_Hu",
        "outputId": "8c1ebca3-c2af-41aa-ab2e-36ad0b7a9ea5"
      },
      "source": [
        "X = ay.transpose(A)\n",
        "print(X)"
      ],
      "execution_count": 29,
      "outputs": [
        {
          "output_type": "stream",
          "name": "stdout",
          "text": [
            "[[5 4 7]\n",
            " [2 5 8]\n",
            " [3 6 9]]\n"
          ]
        }
      ]
    },
    {
      "cell_type": "code",
      "metadata": {
        "colab": {
          "base_uri": "https://localhost:8080/"
        },
        "id": "GApeHfuEdmMK",
        "outputId": "c1af410e-7753-48ed-e0d7-e15c1bad7370"
      },
      "source": [
        "##Create a Python program that applies transpose on a 3x3 or 4x4 matrix\n",
        "Y = ay.linalg.inv(A)\n",
        "print(Y)"
      ],
      "execution_count": 30,
      "outputs": [
        {
          "output_type": "stream",
          "name": "stdout",
          "text": [
            "[[ 0.25       -0.5         0.25      ]\n",
            " [-0.5        -2.          1.5       ]\n",
            " [ 0.25        2.16666667 -1.41666667]]\n"
          ]
        }
      ]
    },
    {
      "cell_type": "code",
      "metadata": {
        "colab": {
          "base_uri": "https://localhost:8080/"
        },
        "id": "81Dq5MABfFqq",
        "outputId": "31aa8cf7-4409-4834-9da4-a462843362f8"
      },
      "source": [
        "Z = ay.dot(A,Y)\n",
        "print(Z)"
      ],
      "execution_count": 31,
      "outputs": [
        {
          "output_type": "stream",
          "name": "stdout",
          "text": [
            "[[ 1.00000000e+00  8.88178420e-16 -6.66133815e-16]\n",
            " [ 2.22044605e-16  1.00000000e+00  4.44089210e-16]\n",
            " [ 1.11022302e-16  1.77635684e-15  1.00000000e+00]]\n"
          ]
        }
      ]
    }
  ]
}