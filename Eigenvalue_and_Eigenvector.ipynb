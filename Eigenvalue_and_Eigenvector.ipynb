{
  "nbformat": 4,
  "nbformat_minor": 0,
  "metadata": {
    "colab": {
      "name": "Eigenvalue and Eigenvector.ipynb",
      "provenance": [],
      "authorship_tag": "ABX9TyN2W3zYeTWIXdh5S7VSoTEf",
      "include_colab_link": true
    },
    "kernelspec": {
      "name": "python3",
      "display_name": "Python 3"
    },
    "language_info": {
      "name": "python"
    }
  },
  "cells": [
    {
      "cell_type": "markdown",
      "metadata": {
        "id": "view-in-github",
        "colab_type": "text"
      },
      "source": [
        "<a href=\"https://colab.research.google.com/github/EarvinColumna/Linear-Algebra-58020/blob/main/Eigenvalue_and_Eigenvector.ipynb\" target=\"_parent\"><img src=\"https://colab.research.google.com/assets/colab-badge.svg\" alt=\"Open In Colab\"/></a>"
      ]
    },
    {
      "cell_type": "code",
      "metadata": {
        "colab": {
          "base_uri": "https://localhost:8080/"
        },
        "id": "fNGPJ7WclGJ7",
        "outputId": "1232c9bf-df3c-4820-9ce9-b8885d80e988"
      },
      "source": [
        "import numpy as np\n",
        "from numpy.linalg import eig\n",
        "\n",
        "A = np.array([[-12,3],[4,1]])\n",
        "print(A)\n",
        "\n",
        "inv_A = np.linalg.inv(A)\n",
        "print(inv_A)\n",
        "\n",
        "B = np.array([[0],[0]])\n",
        "print(B)\n",
        "\n",
        "X = np.dot(inv_A,B)\n",
        "print(X)\n",
        "#X = solve(A,B)\n",
        "#print(X)"
      ],
      "execution_count": 12,
      "outputs": [
        {
          "output_type": "stream",
          "name": "stdout",
          "text": [
            "[[-12   3]\n",
            " [  4   1]]\n",
            "[[-0.04166667  0.125     ]\n",
            " [ 0.16666667  0.5       ]]\n",
            "[[0]\n",
            " [0]]\n",
            "[[0.]\n",
            " [0.]]\n"
          ]
        }
      ]
    },
    {
      "cell_type": "code",
      "metadata": {
        "colab": {
          "base_uri": "https://localhost:8080/"
        },
        "id": "7n38ezSkqGKW",
        "outputId": "4a516c8a-6463-4ab0-be15-ccfd0de9f8ab"
      },
      "source": [
        "#Example 1\n",
        "A = np.array([[-6,3],[4,5]])\n",
        "print(A)\n",
        "\n",
        "w,v = np.linalg.eig(A)\n",
        "print(\"The eigenvalue/s is/are\",w)\n",
        "print(\"The right eigenvectors are:\",v)\n",
        "#x = v.round()\n",
        "#print(x)"
      ],
      "execution_count": 24,
      "outputs": [
        {
          "output_type": "stream",
          "name": "stdout",
          "text": [
            "[[-6  3]\n",
            " [ 4  5]]\n",
            "The eigenvalue/s is/are [-7.  6.]\n",
            "The right eigenvectors are: [[-0.9486833  -0.24253563]\n",
            " [ 0.31622777 -0.9701425 ]]\n"
          ]
        }
      ]
    },
    {
      "cell_type": "code",
      "metadata": {
        "colab": {
          "base_uri": "https://localhost:8080/"
        },
        "id": "bwKcwswwtOPv",
        "outputId": "55010f3e-15ec-41bb-8d74-51c6a5152115"
      },
      "source": [
        "#Example 2\n",
        "A = np.array([[2,2,4],[1,3,5],[2,3,4]])\n",
        "print(A)\n",
        "s,t = np.linalg.eig(A)\n",
        "print(s.round())\n",
        "print(t.round())\n",
        "c = np.dot(A,t.round())\n",
        "print(c)"
      ],
      "execution_count": 18,
      "outputs": [
        {
          "output_type": "stream",
          "name": "stdout",
          "text": [
            "[[2 2 4]\n",
            " [1 3 5]\n",
            " [2 3 4]]\n",
            "[ 9.  1. -1.]\n",
            "[[-1. -1. -0.]\n",
            " [-1.  1. -1.]\n",
            " [-1. -0.  1.]]\n",
            "[[-8.  0.  2.]\n",
            " [-9.  2.  2.]\n",
            " [-9.  1.  1.]]\n"
          ]
        }
      ]
    },
    {
      "cell_type": "code",
      "metadata": {
        "colab": {
          "base_uri": "https://localhost:8080/"
        },
        "id": "reYQzcF5wcHe",
        "outputId": "2c24cced-d979-4035-f323-ba9ef46d4122"
      },
      "source": [
        "f = np.array([[-1],[-1],[-1]])\n",
        "print(f)\n",
        "g = np.dot(A,f)\n",
        "print(g)"
      ],
      "execution_count": 23,
      "outputs": [
        {
          "output_type": "stream",
          "name": "stdout",
          "text": [
            "[[-1]\n",
            " [-1]\n",
            " [-1]]\n",
            "[[-8]\n",
            " [-9]\n",
            " [-9]]\n"
          ]
        }
      ]
    }
  ]
}