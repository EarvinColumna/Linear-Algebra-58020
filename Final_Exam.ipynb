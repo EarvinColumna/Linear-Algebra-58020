{
  "nbformat": 4,
  "nbformat_minor": 0,
  "metadata": {
    "colab": {
      "name": "Final Exam.ipynb",
      "provenance": [],
      "authorship_tag": "ABX9TyNLw+2BwxutEa6MwyBhqjCp",
      "include_colab_link": true
    },
    "kernelspec": {
      "name": "python3",
      "display_name": "Python 3"
    },
    "language_info": {
      "name": "python"
    }
  },
  "cells": [
    {
      "cell_type": "markdown",
      "metadata": {
        "id": "view-in-github",
        "colab_type": "text"
      },
      "source": [
        "<a href=\"https://colab.research.google.com/github/EarvinColumna/Linear-Algebra-58020/blob/main/Final_Exam.ipynb\" target=\"_parent\"><img src=\"https://colab.research.google.com/assets/colab-badge.svg\" alt=\"Open In Colab\"/></a>"
      ]
    },
    {
      "cell_type": "markdown",
      "source": [
        "## Final Exam"
      ],
      "metadata": {
        "id": "2cL3Bsg1Nv1Q"
      }
    },
    {
      "cell_type": "code",
      "execution_count": 5,
      "metadata": {
        "id": "aDM6yGlqMZb4"
      },
      "outputs": [],
      "source": [
        "import numpy as np\n",
        "from numpy.linalg import eig"
      ]
    },
    {
      "cell_type": "markdown",
      "source": [
        "####Problem 1. Student A, Student B, and Student C have a total of Php 89 cash in their banks. Student A has 6 less than Student C. Student B has 3 times what Student C has. How much does each student have? (30 points)"
      ],
      "metadata": {
        "id": "rvlXGELfNjLl"
      }
    },
    {
      "cell_type": "code",
      "source": [
        "c = 19\n",
        "\n",
        "a = (c-6)\n",
        "b = (c*3)\n",
        "c = c\n",
        "\n",
        "print(\"Student A has: \",a)\n",
        "print(\"Student B has: \",b)\n",
        "print(\"Student C has: \",c)"
      ],
      "metadata": {
        "colab": {
          "base_uri": "https://localhost:8080/"
        },
        "id": "vpyArw96Nf7X",
        "outputId": "4b840ac9-f570-4b04-8bff-b8ff73972b78"
      },
      "execution_count": 17,
      "outputs": [
        {
          "output_type": "stream",
          "name": "stdout",
          "text": [
            "Student A has:  13\n",
            "Student B has:  57\n",
            "Student C has:  19\n"
          ]
        }
      ]
    },
    {
      "cell_type": "markdown",
      "source": [
        "####Problem 2. Solve each system: (30 points)\n",
        "\n",
        "3x - y + z = 5\n",
        "\n",
        "9x - 3y +3z = 15\n",
        "\n",
        "-12x +4y -4z = -20 "
      ],
      "metadata": {
        "id": "2jLjjmQlNkrE"
      }
    },
    {
      "cell_type": "code",
      "source": [
        "A = np.array([[3,-1,1], [9,-3,3], [-12,4,-4]])\n",
        "print(\"Matrix A:\\n\", A)\n",
        "inv_A = np.linalg.pinv(A)\n",
        "print(\"\\nInverse of Matrix A:\\n\", inv_A)\n",
        "B = np.array([[5],[10],[-20]])\n",
        "print(\"\\nMatrix A:\\n\", A)\n",
        "X = np.dot(inv_A, B)\n",
        "print(\"\\nDot:\\n\", X)\n",
        "C = np.dot(A, X)\n",
        "print(\"\\nChecking:\\n\", C)\n"
      ],
      "metadata": {
        "colab": {
          "base_uri": "https://localhost:8080/"
        },
        "id": "_TU_CYcEZU5B",
        "outputId": "513ab5fd-02c0-4b18-aafb-47dc2498a4bb"
      },
      "execution_count": 18,
      "outputs": [
        {
          "output_type": "stream",
          "name": "stdout",
          "text": [
            "Matrix A:\n",
            " [[  3  -1   1]\n",
            " [  9  -3   3]\n",
            " [-12   4  -4]]\n",
            "\n",
            "Inverse of Matrix A:\n",
            " [[ 0.01048951  0.03146853 -0.04195804]\n",
            " [-0.0034965  -0.01048951  0.01398601]\n",
            " [ 0.0034965   0.01048951 -0.01398601]]\n",
            "\n",
            "Matrix A:\n",
            " [[  3  -1   1]\n",
            " [  9  -3   3]\n",
            " [-12   4  -4]]\n",
            "\n",
            "Dot:\n",
            " [[ 1.20629371]\n",
            " [-0.4020979 ]\n",
            " [ 0.4020979 ]]\n",
            "\n",
            "Checking:\n",
            " [[  4.42307692]\n",
            " [ 13.26923077]\n",
            " [-17.69230769]]\n"
          ]
        }
      ]
    },
    {
      "cell_type": "markdown",
      "source": [
        "### = Problem # 2 has no solution. We cannot use the inverse."
      ],
      "metadata": {
        "id": "r8ZIAwmrYhho"
      }
    },
    {
      "cell_type": "markdown",
      "source": [
        "####Problem 3. Consider the matrix, (40 points)\n",
        "\n",
        "1. Find the eigenvalue/s\n",
        "2. Find the eigenvectors"
      ],
      "metadata": {
        "id": "hSpq7_cPM9qn"
      }
    },
    {
      "cell_type": "code",
      "source": [
        "A = np.array ([[8,5,-6],[-12,-9,12],[-3,-3,5]]) #Initialization of the array\n",
        "print(A)# Displays the array\n",
        "print(\"\")\n",
        "b,c = np.linalg.eig(A) #Finding the eigenvalues and eigenvectors of the given array\n",
        "print(\"The eigenvalue/s is/are:\",b) #Displays the eigenvalue/s of the given array\n",
        "print(\"The eigenvectors are:\",c) #Displays the eigenvectors of the given array"
      ],
      "metadata": {
        "colab": {
          "base_uri": "https://localhost:8080/"
        },
        "id": "WGia7K0NM9y1",
        "outputId": "3b964b24-0892-407e-e20c-8f72f953e6e8"
      },
      "execution_count": 15,
      "outputs": [
        {
          "output_type": "stream",
          "name": "stdout",
          "text": [
            "[[  8   5  -6]\n",
            " [-12  -9  12]\n",
            " [ -3  -3   5]]\n",
            "\n",
            "The eigenvalue/s is/are: [-1.  3.  2.]\n",
            "The eigenvectors are: [[ 3.01511345e-01 -7.07106781e-01  7.07106781e-01]\n",
            " [-9.04534034e-01  7.07106781e-01  1.53837015e-15]\n",
            " [-3.01511345e-01 -2.26120075e-15  7.07106781e-01]]\n"
          ]
        }
      ]
    }
  ]
}